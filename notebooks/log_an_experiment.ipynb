{
  "nbformat": 4,
  "nbformat_minor": 0,
  "metadata": {
    "colab": {
      "provenance": []
    },
    "kernelspec": {
      "name": "python3",
      "display_name": "Python 3"
    },
    "language_info": {
      "name": "python"
    }
  },
  "cells": [
    {
    "cell_type": "markdown",
    "metadata": {},
    "source": [
    "# Install MLFlow & the DagsHub python client"
    ]
    },
    {
      "cell_type": "code",
      "execution_count": null,
      "metadata": {
        "id": "2JvR9_vR4VyK"
      },
      "outputs": [],
      "source": [
        "%pip install -q dagshub 'mlflow>=2,<3'\n"
      ]
    },
    {
    "cell_type": "markdown",
    "metadata": {},
    "source": [
    "# Use the DagsHub client to setup connection information for MLflow"
    ]
    },
    {
      "cell_type": "code",
      "source": [
        "import dagshub\n",
        "dagshub.init(repo_owner='laia.villagrasa', repo_name='TAED2_SignAI', mlflow=True)"
      ],
      "metadata": {
        "id": "ohogp0JhnEXW"
      },
      "execution_count": null,
      "outputs": []
    },
    {
    "cell_type": "markdown",
    "metadata": {},
    "source": [
    "# Use MLflow to log params and metrics"
    ]
    },
    {
      "cell_type": "code",
      "source": [
        "import mlflow\n",
        "with mlflow.start_run():\n",
        "  # Your training code here...\n",
        "  mlflow.log_metric('accuracy', 42)\n",
        "  mlflow.log_param('Param name', 'Value')"
      ],
      "metadata": {
        "id": "doge2CeXnRX5"
      },
      "execution_count": null,
      "outputs": []
    },
    {
    "cell_type": "markdown",
    "metadata": {},
    "source": [
    "Or turn on autologging for most popular ML frameworks,\n",
    "then run your training code without any modification!\n",
    "\n",
    "For more info and list of supported frameworks, see:\n",
    "[https://mlflow.org/docs/latest/tracking.html#automatic-logging](https://mlflow.org/docs/latest/tracking.html#automatic-logging)"
    ]
    },
    {
      "cell_type": "code",
      "source": [
        "mlflow.autolog()\n"
      ],
      "metadata": {
        "id": "nJ0s-KdapD8t"
      },
      "execution_count": null,
      "outputs": []
    }
  ]
}
