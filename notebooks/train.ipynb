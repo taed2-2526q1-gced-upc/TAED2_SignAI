{
  "cells": [
    {
      "cell_type": "markdown",
      "metadata": {},
      "source": [
        "# Install MLFlow & the DagsHub python client"
      ]
    },
    {
      "cell_type": "code",
      "execution_count": null,
      "metadata": {
        "id": "2JvR9_vR4VyK"
      },
      "outputs": [],
      "source": [
        "%pip install -q dagshub 'mlflow>=2,<3' ultralytics codecarbon"
      ]
    },
    {
      "cell_type": "markdown",
      "metadata": {},
      "source": [
        "# Use the DagsHub client to setup connection information for MLflow"
      ]
    },
    {
      "cell_type": "code",
      "execution_count": null,
      "metadata": {
        "id": "ohogp0JhnEXW"
      },
      "outputs": [],
      "source": [
        "import dagshub\n",
        "dagshub.init(repo_owner='laia.villagrasa', repo_name='TAED2_SignAI', mlflow=True)"
      ]
    },
    {
      "cell_type": "markdown",
      "metadata": {},
      "source": [
        "# Use MLflow to log params and metrics"
      ]
    },
    {
      "cell_type": "code",
      "execution_count": null,
      "metadata": {},
      "outputs": [],
      "source": [
        "import os\n",
        "from datetime import datetime\n",
        "from pathlib import Path\n",
        "from ultralytics import YOLO\n",
        "from codecarbon import EmissionsTracker\n",
        "import pandas as pd\n",
        "\n",
        "import mlflow\n",
        "\n",
        "DATA_YAML = \"/mnt/data/dataset.yaml\" \n",
        "RUN_NAME = f\"yolov8-{datetime.now().strftime('%Y%m%d-%H%M%S')}\"\n",
        "MODEL_NAME = \"yolov8n.pt\" \n",
        "IMGSZ = 250                \n",
        "EPOCHS = 50\n",
        "BATCH = 16\n",
        "DEVICE = 0\n",
        "PROJECT_DIR = \"runs\"\n"
      ]
    },
    {
      "cell_type": "code",
      "execution_count": null,
      "metadata": {
        "id": "doge2CeXnRX5"
      },
      "outputs": [],
      "source": [
        "model = YOLO(MODEL_NAME)\n",
        "\n",
        "with mlflow.start_run(run_name=RUN_NAME):\n",
        "    \n",
        "    mlflow.log_param(\"model_base_or_checkpoint\", MODEL_NAME)\n",
        "    mlflow.log_param(\"imgsz\", IMGSZ)\n",
        "    mlflow.log_param(\"epochs\", EPOCHS)\n",
        "    mlflow.log_param(\"batch\", BATCH)\n",
        "    mlflow.log_param(\"data_yaml\", DATA_YAML)\n",
        "\n",
        "    tracker = EmissionsTracker(\n",
        "        project_name=\"traffic-signs-yolov8\",\n",
        "        output_dir=str(Path.cwd() / \"codecarbon_out\"),\n",
        "        save_to_file=True\n",
        "    )\n",
        "    tracker.start()\n",
        "\n",
        "    results = model.train(\n",
        "        data=DATA_YAML,\n",
        "        imgsz=IMGSZ,\n",
        "        epochs=EPOCHS,\n",
        "        batch=BATCH,\n",
        "        device=DEVICE,\n",
        "        project=PROJECT_DIR,   \n",
        "        name=RUN_NAME,         \n",
        "        exist_ok=True\n",
        "    )\n",
        "\n",
        "    emissions_kg = tracker.stop()\n",
        "    mlflow.log_metric(\"emissions_kg\", emissions_kg)\n",
        "\n",
        "    cc_dir = Path(\"codecarbon_out\")\n",
        "    if cc_dir.exists():\n",
        "        for p in cc_dir.glob(\"*.csv\"):\n",
        "            mlflow.log_artifact(str(p), artifact_path=\"codecarbon\")\n",
        "\n",
        "    run_dir = Path(PROJECT_DIR) / \"detect\" / RUN_NAME\n",
        "    results_csv = run_dir / \"results.csv\"\n",
        "    results_yaml = run_dir / \"results.yaml\"\n",
        "    best_weights = run_dir / \"weights\" / \"best.pt\"\n",
        "\n",
        "    if results_csv.exists():\n",
        "        mlflow.log_artifact(str(results_csv), artifact_path=\"ultralytics\")\n",
        "    if results_yaml.exists():\n",
        "        mlflow.log_artifact(str(results_yaml), artifact_path=\"ultralytics\")\n",
        "    if best_weights.exists():\n",
        "        mlflow.log_artifact(str(best_weights), artifact_path=\"weights\")\n",
        "\n",
        "    df = pd.read_csv(results_csv)\n",
        "    last = df.iloc[-1].to_dict()\n",
        "\n",
        "    for k in [\"metrics/precision(B)\", \"metrics/recall(B)\", \"metrics/mAP50(B)\", \"metrics/mAP50-95(B)\",                \n",
        "              \"val/box_loss\", \"val/cls_loss\", \"val/dfl_loss\"]:\n",
        "        if k in last:\n",
        "          mlflow.log_metric(k.replace(\"(B)\", \"\"), float(last[k]))\n",
        "\n",
        "    mlflow.log_param(\"optimizer\", \"SGD (por defecto YOLO)\")\n",
        "\n"
      ]
    },
    {
      "cell_type": "markdown",
      "metadata": {},
      "source": [
        "Or turn on autologging for most popular ML frameworks,\n",
        "then run your training code without any modification!\n",
        "\n",
        "For more info and list of supported frameworks, see:\n",
        "[https://mlflow.org/docs/latest/tracking.html#automatic-logging](https://mlflow.org/docs/latest/tracking.html#automatic-logging)"
      ]
    },
    {
      "cell_type": "code",
      "execution_count": null,
      "metadata": {
        "id": "nJ0s-KdapD8t"
      },
      "outputs": [],
      "source": [
        "mlflow.autolog()\n"
      ]
    }
  ],
  "metadata": {
    "colab": {
      "provenance": []
    },
    "kernelspec": {
      "display_name": "Python 3",
      "name": "python3"
    },
    "language_info": {
      "name": "python"
    }
  },
  "nbformat": 4,
  "nbformat_minor": 0
}
